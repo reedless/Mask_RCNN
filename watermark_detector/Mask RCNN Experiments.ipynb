{
 "cells": [
  {
   "cell_type": "code",
   "execution_count": 8,
   "id": "3b551595",
   "metadata": {},
   "outputs": [],
   "source": [
    "import os\n",
    "\n",
    "prev = '../data_cache'\n",
    "new  = '../data'\n",
    "\n",
    "splits = os.listdir(prev)"
   ]
  },
  {
   "cell_type": "code",
   "execution_count": 17,
   "id": "1eca3aef",
   "metadata": {},
   "outputs": [],
   "source": [
    "import shutil\n",
    "\n",
    "for split in splits:\n",
    "    prev_folder = prev + '/' + split\n",
    "    prev_input  = prev_folder + '/' + 'input'\n",
    "    prev_water  = prev_folder + '/' + 'mask_watermark'\n",
    "    prev_word   = prev_folder + '/' + 'mask_word'\n",
    "    \n",
    "    new_folder = new + '/' + split\n",
    "    new_input  = new_folder + '/' + 'input'\n",
    "    new_water  = new_folder + '/' + 'mask_watermark'\n",
    "    new_word   = new_folder + '/' + 'mask_word'\n",
    "    \n",
    "    \n",
    "    \n",
    "    positives     = os.listdir(prev_water)\n",
    "    num_positives = len(positives)\n",
    "    num_negatives = 0\n",
    "    \n",
    "    for filename in sorted(os.listdir(prev_input), reverse=True):\n",
    "        if filename in positives:\n",
    "            # copy input, mask_water, mask_word\n",
    "            shutil.copy2(prev_input + '/' + filename, new_input)\n",
    "            shutil.copy2(prev_water + '/' + filename, new_water)\n",
    "            shutil.copy2(prev_word + '/' + filename, new_word)\n",
    "\n",
    "        else:\n",
    "            if num_negatives >= num_positives:\n",
    "                continue\n",
    "            # copy input\n",
    "            shutil.copy2(prev_input + '/' + filename, new_input)\n",
    "            num_negatives += 1            "
   ]
  },
  {
   "cell_type": "code",
   "execution_count": 18,
   "id": "678b5126",
   "metadata": {},
   "outputs": [
    {
     "data": {
      "text/plain": [
       "1414"
      ]
     },
     "execution_count": 18,
     "metadata": {},
     "output_type": "execute_result"
    }
   ],
   "source": [
    "num_negatives"
   ]
  },
  {
   "cell_type": "code",
   "execution_count": null,
   "id": "20ce38f1",
   "metadata": {},
   "outputs": [],
   "source": []
  },
  {
   "cell_type": "code",
   "execution_count": null,
   "id": "7c9637ed",
   "metadata": {},
   "outputs": [],
   "source": []
  },
  {
   "cell_type": "code",
   "execution_count": null,
   "id": "c7b087c0",
   "metadata": {},
   "outputs": [],
   "source": []
  },
  {
   "cell_type": "code",
   "execution_count": null,
   "id": "6f55bf0c",
   "metadata": {},
   "outputs": [],
   "source": []
  },
  {
   "cell_type": "code",
   "execution_count": 4,
   "id": "5de4edf4",
   "metadata": {},
   "outputs": [],
   "source": [
    "import numpy as np\n",
    "\n",
    "dictionary = np.load('watermark_scores_2.npy',allow_pickle='TRUE').item()"
   ]
  },
  {
   "cell_type": "code",
   "execution_count": 5,
   "id": "68696d80",
   "metadata": {
    "scrolled": false
   },
   "outputs": [
    {
     "data": {
      "text/plain": [
       "140"
      ]
     },
     "execution_count": 5,
     "metadata": {},
     "output_type": "execute_result"
    }
   ],
   "source": [
    "len(dictionary)"
   ]
  },
  {
   "cell_type": "code",
   "execution_count": 6,
   "id": "11b57218",
   "metadata": {
    "scrolled": false
   },
   "outputs": [
    {
     "data": {
      "text/plain": [
       "{'12.jpg': array([], dtype=float32),\n",
       " '13.jpg': array([], dtype=float32),\n",
       " '15.jpg': array([], dtype=float32),\n",
       " '16.jpg': array([], dtype=float32),\n",
       " '17.jpg': array([], dtype=float32),\n",
       " 'clean_Img_0001.jpg': array([], dtype=float32),\n",
       " 'clean_Img_000126.jpg': array([], dtype=float32),\n",
       " 'clean_Img_000130.jpg': array([], dtype=float32),\n",
       " 'clean_Img_000142.jpg': array([], dtype=float32),\n",
       " 'clean_Img_000152.jpg': array([], dtype=float32),\n",
       " 'clean_Img_0002.jpg': array([], dtype=float32),\n",
       " 'clean_Img_000203.jpg': array([], dtype=float32),\n",
       " 'clean_Img_000211.jpg': array([], dtype=float32),\n",
       " 'clean_Img_000238.jpg': array([], dtype=float32),\n",
       " 'clean_Img_000252.jpg': array([], dtype=float32),\n",
       " 'clean_Img_000256.jpg': array([], dtype=float32),\n",
       " 'clean_Img_000291.jpg': array([], dtype=float32),\n",
       " 'clean_Img_0003.jpg': array([], dtype=float32),\n",
       " 'clean_Img_000309.jpg': array([], dtype=float32),\n",
       " 'clean_Img_000378.jpg': array([], dtype=float32),\n",
       " 'clean_Img_000379.jpg': array([], dtype=float32),\n",
       " 'clean_Img_000393.jpg': array([], dtype=float32),\n",
       " 'clean_Img_0004.jpg': array([], dtype=float32),\n",
       " 'clean_Img_000423.jpg': array([], dtype=float32),\n",
       " 'clean_Img_000456.jpg': array([], dtype=float32),\n",
       " 'clean_Img_0005.jpg': array([], dtype=float32),\n",
       " 'clean_Img_000508.jpg': array([], dtype=float32),\n",
       " 'clean_Img_000552.jpg': array([], dtype=float32),\n",
       " 'clean_Img_000631.jpg': array([], dtype=float32),\n",
       " 'clean_Img_000655.jpg': array([], dtype=float32),\n",
       " 'clean_Img_000717.jpg': array([], dtype=float32),\n",
       " 'clean_Img_000735.jpg': array([], dtype=float32),\n",
       " 'clean_Img_000738.jpg': array([], dtype=float32),\n",
       " 'clean_Img_000773.jpg': array([], dtype=float32),\n",
       " 'clean_Img_000804.jpg': array([], dtype=float32),\n",
       " 'clean_Img_000840.jpg': array([], dtype=float32),\n",
       " 'clean_Img_000862.jpg': array([], dtype=float32),\n",
       " 'clean_Img_000901.jpg': array([], dtype=float32),\n",
       " 'clean_Img_000904.jpg': array([], dtype=float32),\n",
       " 'clean_Img_000931.jpg': array([], dtype=float32),\n",
       " 'clean_Img_000948.jpg': array([], dtype=float32),\n",
       " 'clean_Img_000949.jpg': array([], dtype=float32),\n",
       " 'clean_Img_000953.jpg': array([], dtype=float32),\n",
       " 'clean_Img_000955.jpg': array([], dtype=float32),\n",
       " 'clean_Img_000981.jpg': array([], dtype=float32),\n",
       " 'clean_Img_000989.jpg': array([], dtype=float32),\n",
       " 'clean_Img_001000.jpg': array([], dtype=float32),\n",
       " 'clean_Img_001039.jpg': array([], dtype=float32),\n",
       " 'clean_Img_001043.jpg': array([], dtype=float32),\n",
       " 'clean_Img_001053.jpg': array([], dtype=float32),\n",
       " 'clean_Img_001092.jpg': array([], dtype=float32),\n",
       " 'clean_Img_001093.jpg': array([], dtype=float32),\n",
       " 'clean_Img_001094.jpg': array([], dtype=float32),\n",
       " 'clean_Img_001117.jpg': array([], dtype=float32),\n",
       " 'clean_Img_001120.jpg': array([], dtype=float32),\n",
       " 'clean_Img_001143.jpg': array([], dtype=float32),\n",
       " 'clean_Img_001158.jpg': array([], dtype=float32),\n",
       " 'clean_Img_001161.jpg': array([], dtype=float32),\n",
       " 'clean_Img_001225.jpg': array([], dtype=float32),\n",
       " 'clean_Img_001228.jpg': array([], dtype=float32),\n",
       " 'clean_Img_001242.jpg': array([], dtype=float32),\n",
       " 'clean_Img_001250.jpg': array([], dtype=float32),\n",
       " 'clean_Img_001257.jpg': array([], dtype=float32),\n",
       " 'clean_Img_001274.jpg': array([], dtype=float32),\n",
       " 'clean_Img_001277.jpg': array([], dtype=float32),\n",
       " 'clean_Img_001279.jpg': array([], dtype=float32),\n",
       " 'clean_Img_001287.jpg': array([], dtype=float32),\n",
       " 'clean_Img_001291.jpg': array([], dtype=float32),\n",
       " 'clean_Img_001297.jpg': array([], dtype=float32),\n",
       " 'clean_Img_001301.jpg': array([], dtype=float32),\n",
       " 'clean_Img_001304.jpg': array([], dtype=float32),\n",
       " 'clean_Img_001309.jpg': array([], dtype=float32),\n",
       " 'clean_Img_001331.jpg': array([], dtype=float32),\n",
       " 'clean_Img_001336.jpg': array([], dtype=float32),\n",
       " 'clean_Img_001355.jpg': array([], dtype=float32),\n",
       " 'clean_Img_001361.jpg': array([], dtype=float32),\n",
       " 'clean_Img_001380.jpg': array([], dtype=float32),\n",
       " 'clean_Img_001402.jpg': array([], dtype=float32),\n",
       " 'clean_Img_001408.jpg': array([], dtype=float32),\n",
       " 'clean_Img_001413.jpg': array([], dtype=float32),\n",
       " 'clean_Img_001421.jpg': array([], dtype=float32),\n",
       " 'clean_Img_001435.jpg': array([], dtype=float32),\n",
       " 'clean_Img_001436.jpg': array([], dtype=float32),\n",
       " 'clean_Img_001439.jpg': array([], dtype=float32),\n",
       " 'clean_Img_001462.jpg': array([], dtype=float32),\n",
       " 'clean_Img_001467.jpg': array([], dtype=float32),\n",
       " 'clean_Img_001482.jpg': array([], dtype=float32),\n",
       " 'clean_Img_001484.jpg': array([], dtype=float32),\n",
       " 'clean_Img_001638.jpg': array([], dtype=float32),\n",
       " 'clean_Img_001696.jpg': array([], dtype=float32),\n",
       " 'clean_Img_001725.jpg': array([], dtype=float32),\n",
       " 'clean_Img_001771.jpg': array([], dtype=float32),\n",
       " 'clean_Img_001791.jpg': array([], dtype=float32),\n",
       " 'clean_Img_001796.jpg': array([], dtype=float32),\n",
       " 'clean_Img_001831.jpg': array([], dtype=float32),\n",
       " 'clean_Img_001853.jpg': array([], dtype=float32),\n",
       " 'clean_Img_001907.jpg': array([], dtype=float32),\n",
       " 'clean_Img_001925.jpg': array([], dtype=float32),\n",
       " 'clean_Img_001948.jpg': array([], dtype=float32),\n",
       " 'clean_Img_001951.jpg': array([], dtype=float32),\n",
       " 'clean_Img_001960.jpg': array([], dtype=float32),\n",
       " 'clean_Img_001963.jpg': array([], dtype=float32),\n",
       " 'clean_Img_001976.jpg': array([], dtype=float32),\n",
       " 'clean_Img_002001.jpg': array([], dtype=float32),\n",
       " 'clean_img_000346.jpg': array([], dtype=float32),\n",
       " 'watermarked_10.jpg': array([], dtype=float32),\n",
       " 'watermarked_11.jpg': array([], dtype=float32),\n",
       " 'watermarked_19.jpg': array([], dtype=float32),\n",
       " 'watermarked_2.jpg': array([], dtype=float32),\n",
       " 'watermarked_20.jpg': array([], dtype=float32),\n",
       " 'watermarked_22.jpg': array([], dtype=float32),\n",
       " 'watermarked_23.jpg': array([], dtype=float32),\n",
       " 'watermarked_24.jpg': array([], dtype=float32),\n",
       " 'watermarked_3.jpg': array([], dtype=float32),\n",
       " 'watermarked_4.jpg': array([], dtype=float32),\n",
       " 'watermarked_5.jpg': array([], dtype=float32),\n",
       " 'watermarked_6.jpg': array([], dtype=float32),\n",
       " 'watermarked_8.jpg': array([], dtype=float32),\n",
       " 'watermarked_9.jpg': array([], dtype=float32),\n",
       " 'watermarked_Img_000388.jpg': array([], dtype=float32),\n",
       " 'watermarked_Img_000424.jpg': array([], dtype=float32),\n",
       " 'watermarked_Img_000896.jpg': array([], dtype=float32),\n",
       " 'watermarked_Img_001062.jpg': array([], dtype=float32),\n",
       " 'watermarked_Img_001142.jpg': array([], dtype=float32),\n",
       " 'watermarked_Img_001176.jpg': array([], dtype=float32),\n",
       " 'watermarked_Img_001191.jpg': array([], dtype=float32),\n",
       " 'watermarked_Img_001192.jpg': array([], dtype=float32),\n",
       " 'watermarked_Img_001194.jpg': array([], dtype=float32),\n",
       " 'watermarked_Img_001195.jpg': array([], dtype=float32),\n",
       " 'watermarked_Img_001200.jpg': array([], dtype=float32),\n",
       " 'watermarked_Img_001224.jpg': array([], dtype=float32),\n",
       " 'watermarked_Img_001227.jpg': array([], dtype=float32),\n",
       " 'watermarked_Img_001273.jpg': array([], dtype=float32),\n",
       " 'watermarked_Img_001425.jpg': array([], dtype=float32),\n",
       " 'watermarked_Img_001586.jpg': array([], dtype=float32),\n",
       " 'watermarked_Img_001950.jpg': array([], dtype=float32),\n",
       " 'watermarked_Img_001986.jpg': array([], dtype=float32),\n",
       " 'watermarked_bad_001.jpg': array([], dtype=float32),\n",
       " 'watermarked_stamp2.jpg': array([], dtype=float32),\n",
       " 'watermarked_stamp_005.jpg': array([], dtype=float32)}"
      ]
     },
     "execution_count": 6,
     "metadata": {},
     "output_type": "execute_result"
    }
   ],
   "source": [
    "dictionary"
   ]
  },
  {
   "cell_type": "code",
   "execution_count": 4,
   "id": "62b5087c",
   "metadata": {},
   "outputs": [],
   "source": [
    "from sklearn.metrics import precision_recall_curve\n",
    "\n",
    "y_true = []\n",
    "probas_pred = []\n",
    "\n",
    "for key in dictionary.keys():\n",
    "    if 'watermarked' in key:\n",
    "        y_true.append(1)\n",
    "    else:\n",
    "        y_true.append(0)\n",
    "    if list(dictionary[key]):\n",
    "        probas_pred.append(dictionary[key][0])\n",
    "    else:\n",
    "        probas_pred.append(0)\n",
    "\n",
    "precision, recall, thresholds = precision_recall_curve(y_true, probas_pred)"
   ]
  },
  {
   "cell_type": "code",
   "execution_count": 5,
   "id": "367adcb8",
   "metadata": {},
   "outputs": [
    {
     "data": {
      "text/plain": [
       "array([0.5140064 , 0.5365002 , 0.54553926, 0.55215377, 0.5547799 ,\n",
       "       0.5613264 , 0.57861733, 0.61686534, 0.6354839 , 0.6567641 ,\n",
       "       0.6640906 , 0.67429835, 0.6794494 , 0.68271476, 0.6859383 ,\n",
       "       0.6928714 , 0.7015355 , 0.70700485, 0.7072446 , 0.71114165,\n",
       "       0.7203204 , 0.72303796, 0.7308015 , 0.7446952 , 0.7473262 ,\n",
       "       0.7487566 , 0.75107265, 0.7548405 , 0.75643754, 0.7583742 ,\n",
       "       0.75957906, 0.76279104, 0.76550585, 0.76869464, 0.76959246,\n",
       "       0.7699542 , 0.770191  , 0.77109766, 0.7712631 , 0.7718184 ,\n",
       "       0.77409196, 0.774443  , 0.7749734 , 0.7758725 , 0.77656406,\n",
       "       0.7810629 , 0.7818347 , 0.78347015, 0.78407043, 0.7850067 ,\n",
       "       0.785527  , 0.7857675 , 0.786361  , 0.7880547 , 0.78862536,\n",
       "       0.79015064, 0.7920035 , 0.7924346 , 0.7964696 , 0.79972315,\n",
       "       0.80371946, 0.8050728 , 0.8078349 , 0.81267095, 0.8150049 ,\n",
       "       0.8196502 , 0.82084155, 0.82212913, 0.82266766, 0.8236846 ,\n",
       "       0.8240374 , 0.82720786, 0.8286857 , 0.8319538 , 0.83235514,\n",
       "       0.8324409 , 0.83257174, 0.8330321 , 0.8338627 , 0.8357478 ,\n",
       "       0.8394022 , 0.8397845 , 0.84480196, 0.84733224, 0.8505688 ,\n",
       "       0.8509841 , 0.85413104, 0.8576469 , 0.85802406, 0.8595753 ,\n",
       "       0.86008364, 0.86290014, 0.8635454 , 0.86398906, 0.8664642 ,\n",
       "       0.8671425 , 0.8678537 , 0.8683358 , 0.8696302 , 0.8719316 ,\n",
       "       0.8722487 , 0.872388  , 0.8725017 , 0.8733904 , 0.87434477,\n",
       "       0.8756703 , 0.87682575, 0.8781776 , 0.8809345 , 0.88456917,\n",
       "       0.8856722 , 0.8861107 , 0.88862467, 0.89056724, 0.8911435 ,\n",
       "       0.8945356 , 0.89499336, 0.89623946, 0.89785933, 0.8978768 ,\n",
       "       0.89800876, 0.8980586 , 0.89834535, 0.90573376, 0.90618235,\n",
       "       0.90760785, 0.91140807, 0.9125273 , 0.91348183, 0.9153752 ,\n",
       "       0.91823846, 0.9227132 , 0.93562365, 0.941974  , 0.94294   ,\n",
       "       0.9449373 , 0.94579035, 0.9526303 , 0.9527373 , 0.9730057 ],\n",
       "      dtype=float32)"
      ]
     },
     "execution_count": 5,
     "metadata": {},
     "output_type": "execute_result"
    }
   ],
   "source": [
    "thresholds"
   ]
  },
  {
   "cell_type": "code",
   "execution_count": 6,
   "id": "6a88ff80",
   "metadata": {},
   "outputs": [
    {
     "data": {
      "text/plain": [
       "array([0.25      , 0.24460432, 0.24637681, 0.24087591, 0.23529412,\n",
       "       0.22962963, 0.2238806 , 0.21804511, 0.21212121, 0.20610687,\n",
       "       0.20769231, 0.20930233, 0.203125  , 0.20472441, 0.20634921,\n",
       "       0.208     , 0.2016129 , 0.20325203, 0.19672131, 0.19834711,\n",
       "       0.19166667, 0.19327731, 0.19491525, 0.1965812 , 0.18965517,\n",
       "       0.19130435, 0.19298246, 0.19469027, 0.19642857, 0.1981982 ,\n",
       "       0.2       , 0.20183486, 0.19444444, 0.19626168, 0.18867925,\n",
       "       0.19047619, 0.18269231, 0.18446602, 0.18627451, 0.18811881,\n",
       "       0.19      , 0.19191919, 0.19387755, 0.19587629, 0.19791667,\n",
       "       0.2       , 0.19148936, 0.19354839, 0.18478261, 0.17582418,\n",
       "       0.17777778, 0.17977528, 0.18181818, 0.17241379, 0.1744186 ,\n",
       "       0.16470588, 0.1547619 , 0.15662651, 0.15853659, 0.14814815,\n",
       "       0.1375    , 0.13924051, 0.14102564, 0.14285714, 0.14473684,\n",
       "       0.13333333, 0.13513514, 0.1369863 , 0.13888889, 0.14084507,\n",
       "       0.12857143, 0.13043478, 0.13235294, 0.13432836, 0.13636364,\n",
       "       0.12307692, 0.125     , 0.11111111, 0.11290323, 0.1147541 ,\n",
       "       0.1       , 0.10169492, 0.10344828, 0.10526316, 0.10714286,\n",
       "       0.10909091, 0.11111111, 0.11320755, 0.11538462, 0.09803922,\n",
       "       0.1       , 0.08163265, 0.08333333, 0.08510638, 0.08695652,\n",
       "       0.08888889, 0.09090909, 0.09302326, 0.0952381 , 0.09756098,\n",
       "       0.1       , 0.1025641 , 0.07894737, 0.08108108, 0.08333333,\n",
       "       0.08571429, 0.08823529, 0.09090909, 0.09375   , 0.09677419,\n",
       "       0.1       , 0.06896552, 0.07142857, 0.07407407, 0.03846154,\n",
       "       0.04      , 0.04166667, 0.04347826, 0.04545455, 0.04761905,\n",
       "       0.05      , 0.05263158, 0.05555556, 0.05882353, 0.0625    ,\n",
       "       0.        , 0.        , 0.        , 0.        , 0.        ,\n",
       "       0.        , 0.        , 0.        , 0.        , 0.        ,\n",
       "       0.        , 0.        , 0.        , 0.        , 0.        ,\n",
       "       1.        ])"
      ]
     },
     "execution_count": 6,
     "metadata": {},
     "output_type": "execute_result"
    }
   ],
   "source": [
    "precision"
   ]
  },
  {
   "cell_type": "code",
   "execution_count": 7,
   "id": "cd7083e6",
   "metadata": {},
   "outputs": [
    {
     "data": {
      "text/plain": [
       "array([1.        , 0.97142857, 0.97142857, 0.94285714, 0.91428571,\n",
       "       0.88571429, 0.85714286, 0.82857143, 0.8       , 0.77142857,\n",
       "       0.77142857, 0.77142857, 0.74285714, 0.74285714, 0.74285714,\n",
       "       0.74285714, 0.71428571, 0.71428571, 0.68571429, 0.68571429,\n",
       "       0.65714286, 0.65714286, 0.65714286, 0.65714286, 0.62857143,\n",
       "       0.62857143, 0.62857143, 0.62857143, 0.62857143, 0.62857143,\n",
       "       0.62857143, 0.62857143, 0.6       , 0.6       , 0.57142857,\n",
       "       0.57142857, 0.54285714, 0.54285714, 0.54285714, 0.54285714,\n",
       "       0.54285714, 0.54285714, 0.54285714, 0.54285714, 0.54285714,\n",
       "       0.54285714, 0.51428571, 0.51428571, 0.48571429, 0.45714286,\n",
       "       0.45714286, 0.45714286, 0.45714286, 0.42857143, 0.42857143,\n",
       "       0.4       , 0.37142857, 0.37142857, 0.37142857, 0.34285714,\n",
       "       0.31428571, 0.31428571, 0.31428571, 0.31428571, 0.31428571,\n",
       "       0.28571429, 0.28571429, 0.28571429, 0.28571429, 0.28571429,\n",
       "       0.25714286, 0.25714286, 0.25714286, 0.25714286, 0.25714286,\n",
       "       0.22857143, 0.22857143, 0.2       , 0.2       , 0.2       ,\n",
       "       0.17142857, 0.17142857, 0.17142857, 0.17142857, 0.17142857,\n",
       "       0.17142857, 0.17142857, 0.17142857, 0.17142857, 0.14285714,\n",
       "       0.14285714, 0.11428571, 0.11428571, 0.11428571, 0.11428571,\n",
       "       0.11428571, 0.11428571, 0.11428571, 0.11428571, 0.11428571,\n",
       "       0.11428571, 0.11428571, 0.08571429, 0.08571429, 0.08571429,\n",
       "       0.08571429, 0.08571429, 0.08571429, 0.08571429, 0.08571429,\n",
       "       0.08571429, 0.05714286, 0.05714286, 0.05714286, 0.02857143,\n",
       "       0.02857143, 0.02857143, 0.02857143, 0.02857143, 0.02857143,\n",
       "       0.02857143, 0.02857143, 0.02857143, 0.02857143, 0.02857143,\n",
       "       0.        , 0.        , 0.        , 0.        , 0.        ,\n",
       "       0.        , 0.        , 0.        , 0.        , 0.        ,\n",
       "       0.        , 0.        , 0.        , 0.        , 0.        ,\n",
       "       0.        ])"
      ]
     },
     "execution_count": 7,
     "metadata": {},
     "output_type": "execute_result"
    }
   ],
   "source": [
    "recall"
   ]
  },
  {
   "cell_type": "code",
   "execution_count": 10,
   "id": "2a9d93cf",
   "metadata": {},
   "outputs": [
    {
     "data": {
      "image/png": "[encoded data removed]",
      "text/plain": [
       "<Figure size 432x288 with 1 Axes>"
      ]
     },
     "metadata": {
      "needs_background": "light"
     },
     "output_type": "display_data"
    }
   ],
   "source": [
    "import matplotlib.pyplot as plt\n",
    "\n",
    "plt.plot(recall, precision, marker='.')\n",
    "plt.xlabel('Recall')\n",
    "plt.ylabel('Precision')\n",
    "plt.show()"
   ]
  },
  {
   "cell_type": "code",
   "execution_count": 16,
   "id": "4dd8155e",
   "metadata": {},
   "outputs": [],
   "source": [
    "both = [precision[i] + recall[i] for i in range(len(recall))]"
   ]
  },
  {
   "cell_type": "code",
   "execution_count": 17,
   "id": "ad150219",
   "metadata": {
    "scrolled": false
   },
   "outputs": [
    {
     "data": {
      "text/plain": [
       "[1.25,\n",
       " 1.216032887975334,\n",
       " 1.2178053830227744,\n",
       " 1.183733055265902,\n",
       " 1.149579831932773,\n",
       " 1.1153439153439153,\n",
       " 1.0810234541577826,\n",
       " 1.0466165413533834,\n",
       " 1.0121212121212122,\n",
       " 0.9775354416575791,\n",
       " 0.9791208791208792,\n",
       " 0.9807308970099669,\n",
       " 0.9459821428571429,\n",
       " 0.9475815523059617,\n",
       " 0.9492063492063492,\n",
       " 0.9508571428571428,\n",
       " 0.9158986175115207,\n",
       " 0.9175377468060395,\n",
       " 0.8824355971896956,\n",
       " 0.8840613931523023,\n",
       " 0.8488095238095238,\n",
       " 0.8504201680672269,\n",
       " 0.8520581113801453,\n",
       " 0.8537240537240537,\n",
       " 0.8182266009852217,\n",
       " 0.8198757763975155,\n",
       " 0.8215538847117794,\n",
       " 0.8232616940581542,\n",
       " 0.825,\n",
       " 0.8267696267696267,\n",
       " 0.8285714285714285,\n",
       " 0.8304062909567497,\n",
       " 0.7944444444444444,\n",
       " 0.7962616822429907,\n",
       " 0.7601078167115902,\n",
       " 0.7619047619047619,\n",
       " 0.7255494505494505,\n",
       " 0.7273231622746186,\n",
       " 0.7291316526610644,\n",
       " 0.730975954738331,\n",
       " 0.7328571428571429,\n",
       " 0.7347763347763347,\n",
       " 0.736734693877551,\n",
       " 0.7387334315169366,\n",
       " 0.7407738095238094,\n",
       " 0.7428571428571429,\n",
       " 0.7057750759878418,\n",
       " 0.7078341013824885,\n",
       " 0.6704968944099379,\n",
       " 0.6329670329670329,\n",
       " 0.6349206349206349,\n",
       " 0.6369181380417335,\n",
       " 0.638961038961039,\n",
       " 0.6009852216748768,\n",
       " 0.6029900332225914,\n",
       " 0.5647058823529412,\n",
       " 0.5261904761904762,\n",
       " 0.5280550774526678,\n",
       " 0.5299651567944251,\n",
       " 0.491005291005291,\n",
       " 0.4517857142857143,\n",
       " 0.45352622061482817,\n",
       " 0.4553113553113553,\n",
       " 0.45714285714285713,\n",
       " 0.45902255639097744,\n",
       " 0.419047619047619,\n",
       " 0.42084942084942084,\n",
       " 0.4227005870841487,\n",
       " 0.4246031746031746,\n",
       " 0.42655935613682094,\n",
       " 0.3857142857142857,\n",
       " 0.3875776397515528,\n",
       " 0.3894957983193277,\n",
       " 0.39147121535181234,\n",
       " 0.39350649350649347,\n",
       " 0.3516483516483516,\n",
       " 0.35357142857142854,\n",
       " 0.3111111111111111,\n",
       " 0.31290322580645163,\n",
       " 0.31475409836065577,\n",
       " 0.27142857142857146,\n",
       " 0.2731234866828087,\n",
       " 0.2748768472906404,\n",
       " 0.27669172932330827,\n",
       " 0.2785714285714286,\n",
       " 0.2805194805194805,\n",
       " 0.28253968253968254,\n",
       " 0.2846361185983828,\n",
       " 0.2868131868131868,\n",
       " 0.24089635854341734,\n",
       " 0.24285714285714285,\n",
       " 0.19591836734693877,\n",
       " 0.1976190476190476,\n",
       " 0.19939209726443768,\n",
       " 0.2012422360248447,\n",
       " 0.20317460317460317,\n",
       " 0.2051948051948052,\n",
       " 0.20730897009966776,\n",
       " 0.2095238095238095,\n",
       " 0.2118466898954704,\n",
       " 0.2142857142857143,\n",
       " 0.21684981684981686,\n",
       " 0.16466165413533834,\n",
       " 0.1667953667953668,\n",
       " 0.16904761904761906,\n",
       " 0.17142857142857143,\n",
       " 0.17394957983193277,\n",
       " 0.17662337662337663,\n",
       " 0.17946428571428572,\n",
       " 0.1824884792626728,\n",
       " 0.18571428571428572,\n",
       " 0.12610837438423644,\n",
       " 0.12857142857142856,\n",
       " 0.1312169312169312,\n",
       " 0.06703296703296703,\n",
       " 0.06857142857142857,\n",
       " 0.07023809523809524,\n",
       " 0.07204968944099378,\n",
       " 0.07402597402597402,\n",
       " 0.07619047619047618,\n",
       " 0.07857142857142857,\n",
       " 0.08120300751879699,\n",
       " 0.08412698412698412,\n",
       " 0.08739495798319327,\n",
       " 0.09107142857142857,\n",
       " 0.0,\n",
       " 0.0,\n",
       " 0.0,\n",
       " 0.0,\n",
       " 0.0,\n",
       " 0.0,\n",
       " 0.0,\n",
       " 0.0,\n",
       " 0.0,\n",
       " 0.0,\n",
       " 0.0,\n",
       " 0.0,\n",
       " 0.0,\n",
       " 0.0,\n",
       " 0.0,\n",
       " 1.0]"
      ]
     },
     "execution_count": 17,
     "metadata": {},
     "output_type": "execute_result"
    }
   ],
   "source": [
    "both"
   ]
  },
  {
   "cell_type": "code",
   "execution_count": 18,
   "id": "5b113e53",
   "metadata": {},
   "outputs": [
    {
     "data": {
      "text/plain": [
       "0"
      ]
     },
     "execution_count": 18,
     "metadata": {},
     "output_type": "execute_result"
    }
   ],
   "source": [
    "both.index(max(both))"
   ]
  },
  {
   "cell_type": "code",
   "execution_count": 19,
   "id": "9a75fad3",
   "metadata": {},
   "outputs": [
    {
     "data": {
      "text/plain": [
       "0.5140064"
      ]
     },
     "execution_count": 19,
     "metadata": {},
     "output_type": "execute_result"
    }
   ],
   "source": [
    "thresholds[0]"
   ]
  },
  {
   "cell_type": "code",
   "execution_count": null,
   "id": "9997883b",
   "metadata": {},
   "outputs": [],
   "source": []
  },
  {
   "cell_type": "code",
   "execution_count": null,
   "id": "2db07fa4",
   "metadata": {},
   "outputs": [],
   "source": []
  },
  {
   "cell_type": "code",
   "execution_count": 4,
   "id": "f14ef3a6",
   "metadata": {},
   "outputs": [],
   "source": [
    "import numpy as np\n",
    "\n",
    "x = np.arange(0.5, 1, 0.01)\n",
    "watermark_binned_scores = [0 for _ in range(len(x))]\n",
    "clean_binned_scores = [0 for _ in range(len(x))]\n",
    "\n",
    "for key in dictionary.keys():\n",
    "    if list(dictionary[key]):\n",
    "        idx = int(round(dictionary[key][0] * 100)) - 50\n",
    "        if 'watermarked' in key:\n",
    "            watermark_binned_scores[idx] += 1\n",
    "        else:\n",
    "            clean_binned_scores[idx] += 1"
   ]
  },
  {
   "cell_type": "code",
   "execution_count": 5,
   "id": "e3992ce2",
   "metadata": {},
   "outputs": [
    {
     "data": {
      "text/plain": [
       "(105, 35)"
      ]
     },
     "execution_count": 5,
     "metadata": {},
     "output_type": "execute_result"
    }
   ],
   "source": [
    "sum(clean_binned_scores), sum(watermark_binned_scores)"
   ]
  },
  {
   "cell_type": "code",
   "execution_count": 7,
   "id": "d724e6ac",
   "metadata": {},
   "outputs": [
    {
     "data": {
      "image/png": "[encoded data removed]",
      "text/plain": [
       "<Figure size 432x288 with 1 Axes>"
      ]
     },
     "metadata": {
      "needs_background": "light"
     },
     "output_type": "display_data"
    }
   ],
   "source": [
    "import matplotlib.pyplot as plt\n",
    "\n",
    "plt.bar(x-0.001, watermark_binned_scores, width=0.001, color='orange', label='watermarked')\n",
    "plt.bar(x+0.002, clean_binned_scores, width=0.001, color='blue', label='clean')\n",
    "plt.legend()\n",
    "plt.show()"
   ]
  },
  {
   "cell_type": "code",
   "execution_count": 8,
   "id": "e0fef28b",
   "metadata": {},
   "outputs": [
    {
     "name": "stdout",
     "output_type": "stream",
     "text": [
      "TP:  14\n",
      "FN:  26\n",
      "TN:  59\n",
      "FP:  41\n",
      "Weighted Accuracy:  0.47\n",
      "TP %:  0.35\n",
      "TN %:  0.59\n"
     ]
    }
   ],
   "source": [
    "thres = 0.85\n",
    "\n",
    "TP = 0\n",
    "FN = 0\n",
    "FP = 0\n",
    "TN = 0\n",
    "\n",
    "for key in dictionary.keys():\n",
    "    if 'clean' in key:\n",
    "        if any(dictionary[key] > thres):\n",
    "            FP += 1\n",
    "        else:\n",
    "            TN += 1\n",
    "    else:\n",
    "        if any(dictionary[key] > thres):\n",
    "            TP += 1\n",
    "        else:\n",
    "            FN += 1\n",
    "            \n",
    "print(\"TP: \", TP)\n",
    "print(\"FN: \", FN)\n",
    "print(\"TN: \", TN)\n",
    "print(\"FP: \", FP)\n",
    "print(\"Weighted Accuracy: \", (TP/2*5 + TN) / ((TN + FP) * 2))\n",
    "print(\"TP %: \", TP / (TP+FN))\n",
    "print(\"TN %: \", TN / (TN+FP))"
   ]
  },
  {
   "cell_type": "code",
   "execution_count": null,
   "id": "da5b58d6",
   "metadata": {},
   "outputs": [],
   "source": []
  },
  {
   "cell_type": "code",
   "execution_count": null,
   "id": "65d09cb7",
   "metadata": {},
   "outputs": [],
   "source": []
  },
  {
   "cell_type": "code",
   "execution_count": null,
   "id": "cfa7c2d8",
   "metadata": {},
   "outputs": [],
   "source": []
  },
  {
   "cell_type": "code",
   "execution_count": null,
   "id": "1ef5ea88",
   "metadata": {},
   "outputs": [],
   "source": []
  },
  {
   "cell_type": "code",
   "execution_count": null,
   "id": "4740a88d",
   "metadata": {},
   "outputs": [],
   "source": []
  },
  {
   "cell_type": "code",
   "execution_count": null,
   "id": "283284e9",
   "metadata": {},
   "outputs": [],
   "source": []
  },
  {
   "cell_type": "code",
   "execution_count": null,
   "id": "cc58daf8",
   "metadata": {},
   "outputs": [],
   "source": []
  },
  {
   "cell_type": "code",
   "execution_count": null,
   "id": "6094af88",
   "metadata": {},
   "outputs": [],
   "source": []
  },
  {
   "cell_type": "code",
   "execution_count": null,
   "id": "7c5118d4",
   "metadata": {},
   "outputs": [],
   "source": []
  },
  {
   "cell_type": "code",
   "execution_count": null,
   "id": "10e2d0de",
   "metadata": {},
   "outputs": [],
   "source": []
  },
  {
   "cell_type": "code",
   "execution_count": null,
   "id": "004b9507",
   "metadata": {},
   "outputs": [],
   "source": []
  },
  {
   "cell_type": "code",
   "execution_count": null,
   "id": "7b021541",
   "metadata": {},
   "outputs": [],
   "source": []
  }
 ],
 "metadata": {
  "kernelspec": {
   "display_name": "Python 3",
   "language": "python",
   "name": "python3"
  },
  "language_info": {
   "codemirror_mode": {
    "name": "ipython",
    "version": 3
   },
   "file_extension": ".py",
   "mimetype": "text/x-python",
   "name": "python",
   "nbconvert_exporter": "python",
   "pygments_lexer": "ipython3",
   "version": "3.5.2"
  }
 },
 "nbformat": 4,
 "nbformat_minor": 5
}
